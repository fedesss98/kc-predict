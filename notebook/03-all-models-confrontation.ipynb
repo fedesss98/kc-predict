{
 "cells": [
  {
   "cell_type": "code",
   "execution_count": null,
   "id": "initial_id",
   "metadata": {
    "collapsed": true
   },
   "outputs": [],
   "source": [
    "import pandas as pd\n",
    "import matplotlib.pyplot as plt\n",
    "from matplotlib.gridspec import GridSpec\n",
    "import seaborn as sns\n",
    "import numpy as np"
   ]
  },
  {
   "cell_type": "code",
   "execution_count": null,
   "outputs": [],
   "source": [
    "df = pd.read_pickle('../data/predicted/all_models.pickle')\n",
    "df.plot(subplots=True, figsize=(10, 10))"
   ],
   "metadata": {
    "collapsed": false
   },
   "id": "e2140781129d175b"
  },
  {
   "cell_type": "code",
   "execution_count": null,
   "outputs": [],
   "source": [
    "# Set the correlation table from Kc paper data (Fig.8)\n",
    "correlation_table = [\n",
    "    [1, 0.39, 0.46, 0.54, 0.58, 0.5],\n",
    "    [0.39, 1, 0.86, 0.55, 0.6, 0.67],\n",
    "    [0.46, 0.86, 1, 0.52, 0.57, 0.6],\n",
    "    [0.54, 0.55, 0.52, 1, 0.7, 0.62],\n",
    "    [0.58, 0.6, 0.57, 0.7, 1, 0.66],\n",
    "    [0.5, 0.67, 0.6, 0.62, 0.66, 1]\n",
    "]\n",
    "df_corr = pd.DataFrame(columns=['Kc-EC', 'Allen-Rallo', 'Kc-VIs', 'Kc-MLP', 'Kc-RF', 'Kc-kNN'], index=['Kc-EC', 'Allen-Rallo', 'Kc-VIs', 'Kc-MLP', 'Kc-RF', 'Kc-kNN'], data=correlation_table)\n",
    "\n",
    "# Plot the correlation heatmap\n",
    "plt.figure(figsize=(14, 8))\n",
    "sns.heatmap(df_corr, annot=True, cmap=\"Blues\", fmt='.2g')"
   ],
   "metadata": {
    "collapsed": false
   },
   "id": "81bb9d1ad57af4c5"
  },
  {
   "cell_type": "code",
   "execution_count": null,
   "outputs": [],
   "source": [
    "def polar_plot(categories, values, ax=None, **kwargs):\n",
    "    if ax is None:    \n",
    "        # Set up the figure in polar coordinates\n",
    "        fig, ax = plt.subplots(figsize=(8, 8), subplot_kw=dict(polar=True))\n",
    "    radiants = np.linspace(0, 2*np.pi, len(categories), endpoint=False)\n",
    "    angles = np.degrees(radiants)\n",
    "    \n",
    "    # Add the start point to the end of your data to close the plot\n",
    "    values = np.append(values, values[0])\n",
    "    radiants = np.append(radiants, radiants[0])\n",
    "    \n",
    "    # Set the categories labels\n",
    "    ax.set_thetagrids(angles, labels=categories, fontsize=18)\n",
    "     \n",
    "    # Plot actual sales graph\n",
    "    ax.plot(radiants, values, 'b.-')\n",
    "    ax.fill(radiants, values, 'b', alpha=0.1)\n",
    "    \n",
    "    ax.set_rticks([0.2, 0.4, 0.6, 0.8, 1.0])\n",
    "    # Minor ticks\n",
    "    for radius in [0.5, 0.7, 0.9]:\n",
    "        ax.plot(np.linspace(0, 2*np.pi, 100), [radius] * 100, \n",
    "                linestyle=(0, (10, 10)), lw=0.5, color='grey', alpha=0.5)\n",
    "        \n",
    "    ax.set_title(kwargs.get('title', '') + '\\n', fontsize=18, weight='bold')\n",
    "    \n",
    "    ax.set_rmax(1)\n",
    "    ax.set_rmin(0)\n",
    "    \n",
    "    if kwargs.get('annotate', False):\n",
    "        for i, v in enumerate(values):\n",
    "            ax.annotate(f'{v:.2f}', xy=(radiants[i], values[i]), \n",
    "                        xytext=(radiants[i], values[i] - 0.15), \n",
    "                        ha='center', va='center', color='b', fontsize=14)\n",
    "    \n",
    "    return ax\n",
    "\n",
    "\n",
    "def polar_grid(df_corr, **kwargs):\n",
    "    fig = plt.figure(figsize=kwargs.get('figsize',(20, 10)), \n",
    "                     layout='tight')\n",
    "    # Define a GridSpec\n",
    "    if kwargs.get('vertical', False):\n",
    "        gs = GridSpec(3, 2, figure=fig)  # 3 rows, 2 columns\n",
    "        for i, (model, correlations) in enumerate(df_corr.items()):\n",
    "            ax = fig.add_subplot(gs[i // 2, i % 2], polar=True)\n",
    "            correlations.drop(model, inplace=True)\n",
    "            polar_plot(correlations.index, correlations.values, ax=ax, title=model, annotate=True)\n",
    "    else:\n",
    "        gs = GridSpec(2, 3, figure=fig)  # 2 rows, 8 columns to pair\n",
    "        for i, (model, correlations) in enumerate(df_corr.items()):\n",
    "            ax = fig.add_subplot(gs[i // 3, i % 3], polar=True)\n",
    "            correlations.drop(model, inplace=True)\n",
    "            polar_plot(correlations.index, correlations.values, ax=ax, title=model, **kwargs)\n",
    "    \n",
    "    return fig"
   ],
   "metadata": {
    "collapsed": false
   },
   "id": "642e277d04a153f1"
  },
  {
   "cell_type": "code",
   "execution_count": null,
   "outputs": [],
   "source": [
    "grid_unannotated = polar_grid(df_corr)"
   ],
   "metadata": {
    "collapsed": false
   },
   "id": "3b01389594ca31f7"
  },
  {
   "cell_type": "code",
   "execution_count": null,
   "outputs": [],
   "source": [
    "grid_annotated = polar_grid(df_corr, annotate=True)"
   ],
   "metadata": {
    "collapsed": false
   },
   "id": "4c55810fff0d9940"
  },
  {
   "cell_type": "code",
   "execution_count": null,
   "outputs": [],
   "source": [
    "grid_vertical = polar_grid(df_corr, vertical=True, figsize=(10, 17))"
   ],
   "metadata": {
    "collapsed": false
   },
   "id": "a30867c0ca94e7eb"
  },
  {
   "cell_type": "code",
   "execution_count": null,
   "outputs": [],
   "source": [
    "grid_vertical.savefig('../visualization/paper/pearson_radial_scores.pdf', dpi=300)"
   ],
   "metadata": {
    "collapsed": false
   },
   "id": "5240913973329f08"
  },
  {
   "cell_type": "code",
   "execution_count": null,
   "outputs": [],
   "source": [
    "scores_dict = {\n",
    "    'MLP-EC': [0.15, 0.01, 0.12,0.25,0.54,0.28],\n",
    "    'MLP-VIs': [0.16,0.03,0.13,5.34,0.52,0.22],\n",
    "    'MLP-Allen': [0.14,0.02,0.10,3.07,0.55,0.24],\n",
    "    'MLP-Rallo': [0.17,0.14,0.14,25.69,0.55,-6.04],\n",
    "    'RF-EC': [0.15,-0.01,0.11,5.06,0.58,0.37],\n",
    "    'RF-VIs': [0.16,0.03,0.13,4.51,0.57,0.30],\n",
    "    'RF-Allen': [0.13,0.01,0.10,2.25,0.60,0.33],\n",
    "    'RF-Rallo': [0.17,0.14,0.14,24.72,0.60,-5.44],\n",
    "    'kNN-EC': [0.17,0.03,0.13,5.06,0.50,0.17],\n",
    "    'kNN-VIs': [0.16,0.07,0.13,10.41,0.60,0.22],\n",
    "    'kNN-Allen': [0.14,0.05,0.10,8.10,0.67,0.28],\n",
    "    'kNN-Rallo': [0.20,0.18,0.18,31.86,0.67,-8.92],\n",
    "}"
   ],
   "metadata": {
    "collapsed": false
   },
   "id": "1cb6a02eb1e59f42"
  }
 ],
 "metadata": {
  "kernelspec": {
   "display_name": "Python 3",
   "language": "python",
   "name": "python3"
  },
  "language_info": {
   "codemirror_mode": {
    "name": "ipython",
    "version": 2
   },
   "file_extension": ".py",
   "mimetype": "text/x-python",
   "name": "python",
   "nbconvert_exporter": "python",
   "pygments_lexer": "ipython2",
   "version": "2.7.6"
  }
 },
 "nbformat": 4,
 "nbformat_minor": 5
}
