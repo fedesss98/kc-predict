{
 "cells": [
  {
   "cell_type": "code",
   "execution_count": null,
   "id": "c3f79952-15a8-47df-ae2e-e681a1b18263",
   "metadata": {},
   "outputs": [],
   "source": [
    "# Imports\n",
    "%matplotlib inline\n",
    "import matplotlib.pyplot as plt\n",
    "import pandas as pd\n",
    "import seaborn as sns\n",
    "from sklearn.metrics import mean_squared_error\n",
    "from sklearn.metrics import r2_score\n",
    "\n",
    "ROOT = ''"
   ]
  },
  {
   "cell_type": "code",
   "execution_count": null,
   "id": "83a8f392-e125-46c8-8867-c99532953798",
   "metadata": {},
   "outputs": [],
   "source": [
    "# Functions definitions\n",
    "def read_trapezoidal():\n",
    "    df = pd.read_csv(ROOT + 'data/external/trapezoidal_kc.csv',\n",
    "                     sep=';', decimal=',',\n",
    "                     index_col=0,\n",
    "                     parse_dates=True, \n",
    "                     infer_datetime_format=True, dayfirst=True,\n",
    "                     skiprows=[0],\n",
    "                     header = 0,\n",
    "                     names=['Allen', 'Rallo'],\n",
    "    )\n",
    "    df.index.name = 'Day'\n",
    "    return df\n",
    "\n",
    "def read_measures():\n",
    "    df = pd.read_pickle(ROOT + 'data/interim/data.pickle')\n",
    "    return df.loc[:, ['ETa', 'ETo']].dropna()\n",
    "\n",
    "def read_kcvi():\n",
    "    df = pd.read_csv(ROOT + 'data/external/VIs_Kc_2018_2022.csv',\n",
    "                     sep=';', decimal=',',\n",
    "                     index_col=0,\n",
    "                     parse_dates=True, \n",
    "                     infer_datetime_format=True, dayfirst=True,\n",
    "                     header = 0,\n",
    "                     names = ['Kc_VIs']\n",
    "    )\n",
    "    df.index.name = 'Day'\n",
    "    return df\n",
    "\n",
    "def read_all_data():\n",
    "    predicted_kc = pd.read_csv(ROOT + 'data/predicted/kc_postprocessed.csv', parse_dates=True, infer_datetime_format=True, index_col=0)\n",
    "    predicted_trapezoidal = pd.read_pickle(ROOT + 'data/predicted/trapezoidal.pickle')\n",
    "    theoretical = read_trapezoidal()\n",
    "    kcvi = read_kcvi()\n",
    "    return [predicted_kc, predicted_trapezoidal, theoretical, kcvi]"
   ]
  },
  {
   "cell_type": "markdown",
   "id": "33571326-3d85-41a8-800c-0046b75da96c",
   "metadata": {},
   "source": [
    "# Crop Coefficient Data"
   ]
  },
  {
   "cell_type": "code",
   "execution_count": null,
   "outputs": [],
   "source": [
    "import os\n",
    "os.getcwd()"
   ],
   "metadata": {
    "collapsed": false
   },
   "id": "79796450ab78afd1"
  },
  {
   "cell_type": "code",
   "execution_count": null,
   "id": "615ea797-75de-484d-b83f-6def7eca5fb7",
   "metadata": {},
   "outputs": [],
   "source": [
    "data = pd.concat(read_all_data(), axis=1, join='outer')\n",
    "data"
   ]
  },
  {
   "cell_type": "markdown",
   "id": "4f6a2983-2d20-4a91-82ee-47e6f56d2cf2",
   "metadata": {},
   "source": [
    "## Measures and VI predictions\n",
    "A comparison"
   ]
  },
  {
   "cell_type": "code",
   "execution_count": null,
   "id": "2babdd16-a9ea-42e0-b03b-62de79950a82",
   "metadata": {},
   "outputs": [],
   "source": [
    "kc_measured = data.loc[data['Source']=='Measured', ['Kc', 'Kc_VIs']]\n",
    "r2 = r2_score(kc_measured['Kc'], kc_measured['Kc_VIs'])\n",
    "rmse = mean_squared_error(kc_measured['Kc'], kc_measured['Kc_VIs'], squared=False)\n",
    "\n",
    "et_measures = read_measures()\n",
    "eta_vi = kc_measured['Kc_VIs'] * et_measures['ETo']\n",
    "eta = et_measures.loc[eta_vi.dropna().index, 'ETa']\n",
    "r2_eta = r2_score(eta, eta_vi.dropna())\n",
    "print(f'R2 score ETa measured / ETa VI: {r2_eta}')"
   ]
  },
  {
   "cell_type": "code",
   "execution_count": null,
   "id": "e80c8c58-fe6a-4e1f-a78f-6a4bd9a8fd66",
   "metadata": {},
   "outputs": [],
   "source": [
    "# Regression Plot\n",
    "fig, ax = plt.subplots(figsize=(6, 6))\n",
    "ax = sns.regplot(\n",
    "    kc_measured, \n",
    "    x='Kc', \n",
    "    y='Kc_VIs',\n",
    "    robust=True,\n",
    "    ci=80,\n",
    "    line_kws={'label':f\"R2: {r2:.4}\\nRMSE: {rmse:.4}\", 'color':\"red\"},\n",
    "    ax=ax\n",
    ")\n",
    "ax.legend(loc='upper left')\n",
    "ax.set_ylim(0.45, 1.4)\n",
    "ax.set_xlim(0.45, 1.4)"
   ]
  },
  {
   "cell_type": "code",
   "execution_count": null,
   "id": "08c37028-98ca-4975-aef2-aedb5351a8e4",
   "metadata": {},
   "outputs": [],
   "source": [
    "g = sns.relplot(\n",
    "    data, \n",
    "    x='Day', \n",
    "    y='Kc', \n",
    "    hue='Source',\n",
    "    aspect=3,\n",
    ")\n",
    "g.map(sns.lineplot, 'Day', 'Kc_VIs', color='green', alpha=0.4)\n",
    "g.set_ylabels('Crop Coefficient').set(title='Kc Measured, Predicted and Inferred by VI')"
   ]
  },
  {
   "cell_type": "code",
   "execution_count": null,
   "id": "88821f42-7bb2-443d-849c-f891a7174217",
   "metadata": {},
   "outputs": [],
   "source": [
    "data"
   ]
  },
  {
   "cell_type": "code",
   "execution_count": null,
   "outputs": [],
   "source": [
    "(low_trpz.plot())\n",
    "(high_trpz.plot())\n",
    "data.dropna().plot()"
   ],
   "metadata": {
    "collapsed": false
   },
   "id": "353fa500d92bc9bd"
  },
  {
   "cell_type": "code",
   "execution_count": null,
   "id": "c58a5e47-4d3e-4e21-b585-98b31a834596",
   "metadata": {},
   "outputs": [],
   "source": [
    "g = sns.FacetGrid(data.reset_index(),\n",
    "                 aspect=4)\n",
    "g.map(sns.lineplot, 'Day', 'trapezoidal', color='blue')\n",
    "g.map(sns.lineplot, 'Day', 'Allen', color='red')\n",
    "g.set(title='Trapezoidal Predictions vs Allen theoretical trapezoid').set_ylabels('Crop Coefficient')\n",
    "low_trpz = data['trapezoidal'].dropna()-data['std'].dropna()\n",
    "high_trpz = data['trapezoidal'].dropna()+data['std'].dropna()\n",
    "g.ax.fill_between(data.dropna().index, low_trpz.loc[data.dropna().index], high_trpz.loc[data.dropna().index], alpha=0.2)"
   ]
  },
  {
   "cell_type": "markdown",
   "id": "a635865d-bf97-444f-9662-752eb24d383f",
   "metadata": {},
   "source": [
    "## Mean Squared Error\n",
    "Average distance between Measured/Predicted data and theoretical Allen trapezoid or VI inferred"
   ]
  },
  {
   "cell_type": "code",
   "execution_count": null,
   "id": "9bb83087-0495-4531-a900-a3d4e6d54a72",
   "metadata": {},
   "outputs": [],
   "source": [
    "mse_allen = mean_squared_error(data['Kc'], data['Allen'], squared=False)\n",
    "mse_vi = mean_squared_error(data['Kc'], data['Kc_VIs'], squared=False)\n",
    "print(f'Computed Mean Squared Error (ALLEN): {mse_allen}')\n",
    "print(f'Computed Mean Squared Error (VI): {mse_vi}')"
   ]
  },
  {
   "cell_type": "markdown",
   "id": "b19b519b-61bf-4862-98b8-ac34adb5f2ea",
   "metadata": {},
   "source": [
    "## Relative Error\n",
    "Plotting the relative error of each point, \n",
    "given by the ratio of the measure and the error"
   ]
  },
  {
   "cell_type": "code",
   "execution_count": null,
   "id": "08e2c659-87cf-4cc7-9140-53f95347e3d0",
   "metadata": {},
   "outputs": [],
   "source": [
    "import numpy as np\n",
    "#data['Allen_Errors'] = mse_allen / data['Kc']\n",
    "#data['VI_Errors'] = mse_vi / data['Kc']\n",
    "data['Allen_Errors'] = (data['Kc'].values - data['Allen'].values) / data['Kc'].values\n",
    "data['VI_Errors'] = (data['Kc'].values - data['Kc_VIs'].values) / data['Kc'].values"
   ]
  },
  {
   "cell_type": "markdown",
   "id": "3937b389-07b2-44d8-b4c4-17a824a46860",
   "metadata": {},
   "source": [
    "### Allen Errors"
   ]
  },
  {
   "cell_type": "code",
   "execution_count": null,
   "id": "b8f0645f-56f0-418a-b648-ee1f1ca5386c",
   "metadata": {},
   "outputs": [],
   "source": [
    "\n",
    "g = sns.relplot(\n",
    "    data,\n",
    "    x='Day',\n",
    "    y='Allen_Errors',\n",
    "    hue='Source',\n",
    "    aspect=2.4,\n",
    ")\n",
    "g.set(title='Kc Relative Error w/ respect to Allen predictions').set_ylabels('Crop Coefficient')"
   ]
  },
  {
   "cell_type": "markdown",
   "id": "0875e3c2-fd89-4ddf-8d57-06d3b70edec6",
   "metadata": {},
   "source": [
    "### VI Errors"
   ]
  },
  {
   "cell_type": "code",
   "execution_count": null,
   "id": "c69f3394-09ee-4f6f-9b55-784dc0b206dc",
   "metadata": {},
   "outputs": [],
   "source": [
    "g = sns.relplot(\n",
    "    data,\n",
    "    x='Day',\n",
    "    y='VI_Errors',\n",
    "    hue='Source',\n",
    "    aspect=2.4,\n",
    ")\n",
    "g.set(title='Kc Relative Error w/ respect to VIs predictions').set_ylabels('Crop Coefficient')"
   ]
  },
  {
   "cell_type": "markdown",
   "id": "a8ef60ff-056e-4ea0-bb90-93c8cde4639a",
   "metadata": {},
   "source": [
    "## Distributions"
   ]
  },
  {
   "cell_type": "code",
   "execution_count": null,
   "id": "234f587f-3aca-493a-9e37-4a83a4867bb8",
   "metadata": {},
   "outputs": [],
   "source": [
    "g = sns.jointplot(data, \n",
    "    x='Kc', \n",
    "    y='Kc',\n",
    "    kind='hist',\n",
    "    cbar=True\n",
    ")\n",
    "g.fig.set_figwidth(8)"
   ]
  },
  {
   "cell_type": "code",
   "execution_count": null,
   "id": "5bb037f6-983e-424d-8281-9419de2c7756",
   "metadata": {},
   "outputs": [],
   "source": [
    "g = sns.jointplot(data, \n",
    "    x='Kc_VIs', \n",
    "    y='Kc',\n",
    "    kind='hist',\n",
    "    cbar=True\n",
    ")\n",
    "g.fig.set_figwidth(8) "
   ]
  },
  {
   "cell_type": "code",
   "execution_count": null,
   "id": "01ef9ca9-9960-4728-954b-6c16179856f7",
   "metadata": {},
   "outputs": [],
   "source": [
    "g = sns.jointplot(data.loc['2018'], \n",
    "    x='Kc_VIs', \n",
    "    y='Kc',\n",
    "    kind='hist',\n",
    "    cbar=True\n",
    ")\n",
    "g.fig.set_figwidth(8)\n",
    "g.fig.suptitle('2018')\n",
    "g.fig.tight_layout()"
   ]
  },
  {
   "cell_type": "code",
   "execution_count": null,
   "id": "4b9f8112-e5e6-40d8-9b3c-f2185c658ef5",
   "metadata": {},
   "outputs": [],
   "source": [
    "g = sns.jointplot(data.loc['2019'], \n",
    "    x='Kc_VIs', \n",
    "    y='Kc',\n",
    "    kind='hist',\n",
    "    cbar=True\n",
    ")\n",
    "g.fig.set_figwidth(8)\n",
    "g.fig.suptitle('2019')\n",
    "g.fig.tight_layout()"
   ]
  },
  {
   "cell_type": "code",
   "execution_count": null,
   "id": "8ac97df2-812b-4422-be05-8ef22777ea84",
   "metadata": {},
   "outputs": [],
   "source": [
    "g = sns.jointplot(data.loc['2020'], \n",
    "    x='Kc_VIs', \n",
    "    y='Kc',\n",
    "    kind='hist',\n",
    "    cbar=True\n",
    ")\n",
    "g.fig.set_figwidth(8)\n",
    "g.fig.suptitle('2020')\n",
    "g.fig.tight_layout()"
   ]
  },
  {
   "cell_type": "code",
   "execution_count": null,
   "id": "0541a5f6-f727-474a-8acd-e3dc5c2c98d2",
   "metadata": {},
   "outputs": [],
   "source": [
    "g = sns.jointplot(data.loc['2021'], \n",
    "    x='Kc_VIs', \n",
    "    y='Kc',\n",
    "    kind='hist',\n",
    "    cbar=True\n",
    ")\n",
    "g.fig.set_figwidth(8)\n",
    "g.fig.suptitle('2021')\n",
    "g.fig.tight_layout()"
   ]
  },
  {
   "cell_type": "code",
   "execution_count": null,
   "id": "83b5f9ce-8da3-40a2-95d8-ed478a58e2e0",
   "metadata": {},
   "outputs": [],
   "source": [
    "data['Allen_Errors'].plot(kind='hist')\n",
    "plt.show()"
   ]
  },
  {
   "cell_type": "markdown",
   "id": "491316bb-c5f6-4f45-8bed-66621d4a6c8d",
   "metadata": {},
   "source": [
    "### Seasons"
   ]
  },
  {
   "cell_type": "code",
   "execution_count": null,
   "id": "9e67edd8-aeec-4cc6-bbf8-0a94069c736a",
   "metadata": {},
   "outputs": [],
   "source": [
    "g = sns.jointplot(data.loc['2018-05':'2018-08'], \n",
    "    x='Kc_VIs', \n",
    "    y='Kc',\n",
    "    kind='hist',\n",
    "    cbar=True\n",
    ")\n",
    "g.fig.set_figwidth(8)\n",
    "g.fig.suptitle('data between May 2018 and August 2018')\n",
    "g.fig.tight_layout()"
   ]
  },
  {
   "cell_type": "code",
   "execution_count": null,
   "id": "db6b3fee-b721-4b0a-a6d2-9cb7fe3bfab0",
   "metadata": {},
   "outputs": [],
   "source": [
    "g = sns.jointplot(data.loc['2018-01':'2018-03'], \n",
    "    x='Kc_VIs', \n",
    "    y='Kc',\n",
    "    kind='hist',\n",
    "    cbar=True\n",
    ")\n",
    "g.fig.set_figwidth(8)\n",
    "g.fig.suptitle('data between January 2018 and March 2018')\n",
    "g.fig.tight_layout()"
   ]
  },
  {
   "cell_type": "code",
   "execution_count": null,
   "id": "9dc5b791-e2bc-4816-a102-c9deeb327596",
   "metadata": {},
   "outputs": [],
   "source": [
    "g = sns.jointplot(data.loc['2018-09':'2018-12'], \n",
    "    x='Kc_VIs', \n",
    "    y='Kc',\n",
    "    kind='hist',\n",
    "    cbar=True\n",
    ")\n",
    "g.fig.set_figwidth(8)\n",
    "g.fig.suptitle('data between November 2018 and December 2018')\n",
    "g.fig.tight_layout()"
   ]
  },
  {
   "cell_type": "code",
   "execution_count": null,
   "id": "ea5a9277-8290-4ff8-88b0-89b7c1ff5fad",
   "metadata": {},
   "outputs": [],
   "source": [
    "g = sns.jointplot(data[(data.index.month < 9) & (data.index.month > 4)], \n",
    "    x='Kc_VIs', \n",
    "    y='Kc',\n",
    "    kind='hist',\n",
    "    cbar=True\n",
    ")\n",
    "g.fig.set_figwidth(8)\n",
    "g.fig.suptitle('data between May and August')\n",
    "g.fig.tight_layout()"
   ]
  },
  {
   "cell_type": "code",
   "execution_count": null,
   "id": "8fda5f8a-653d-4989-9f09-f39287676fae",
   "metadata": {},
   "outputs": [],
   "source": [
    "g = sns.jointplot(data[(data.index.month < 4) | (data.index.month > 8)], \n",
    "    x='Kc_VIs', \n",
    "    y='Kc',\n",
    "    kind='hist',\n",
    "    cbar=True\n",
    ")\n",
    "g.fig.set_figwidth(8)\n",
    "g.fig.suptitle('data before April and after August')\n",
    "g.fig.tight_layout()"
   ]
  },
  {
   "cell_type": "code",
   "execution_count": null,
   "id": "45258fb3-2dfe-4ca6-a833-1507abe9bd03",
   "metadata": {},
   "outputs": [],
   "source": [
    "g = sns.jointplot(\n",
    "    data, \n",
    "    x='Allen', \n",
    "    y='Kc',\n",
    "    kind='hist',\n",
    "    cbar=True,\n",
    ")\n",
    "g.fig.set_figwidth(8)"
   ]
  },
  {
   "cell_type": "code",
   "execution_count": null,
   "id": "75556c43-e24f-4210-b6b2-ea461121fbcd",
   "metadata": {},
   "outputs": [],
   "source": [
    "g = sns.jointplot(data, \n",
    "              x='Allen', \n",
    "              y='trapezoidal', \n",
    "              cbar=True, \n",
    "              kind='hist',\n",
    ")\n",
    "g.fig.set_figwidth(8)"
   ]
  },
  {
   "cell_type": "code",
   "execution_count": null,
   "id": "396bb254-1fb5-444d-8c96-077862fdc20e",
   "metadata": {},
   "outputs": [],
   "source": [
    "features = [col for col in data.columns if col != 'std']\n",
    "g = sns.PairGrid(data, hue='Source', height=2)\n",
    "g.map_diag(sns.kdeplot)\n",
    "g.map_offdiag(sns.histplot)"
   ]
  },
  {
   "cell_type": "code",
   "execution_count": null,
   "id": "62f57d23-c5e5-4cec-8c6d-c6f2229fae59",
   "metadata": {},
   "outputs": [],
   "source": [
    "features = [col for col in data.columns if col not in ['std', 'Source']]\n",
    "g = sns.PairGrid(data, height=2, vars=features)\n",
    "g.map_diag(sns.kdeplot)\n",
    "g.map_offdiag(sns.histplot)"
   ]
  },
  {
   "cell_type": "markdown",
   "source": [
    "## Errors Violin Plots"
   ],
   "metadata": {
    "collapsed": false
   },
   "id": "a6c2fba056d14c2a"
  },
  {
   "cell_type": "code",
   "execution_count": null,
   "outputs": [],
   "source": [
    "df_errors = pd.read_csv(ROOT + 'data/external/df_total_Kc.csv',\n",
    "                        sep=';', decimal='.',\n",
    "                        index_col=0,)\n",
    "df_errors"
   ],
   "metadata": {
    "collapsed": false
   },
   "id": "1daec2ea7a8c629d"
  },
  {
   "cell_type": "code",
   "execution_count": null,
   "outputs": [],
   "source": [
    "df_to_plot = df_errors.melt(id_vars=['Kc_mlp'], value_vars=['Allen', 'Rallo', 'Kc_Vls', 'Kc_kNN'], var_name='Model', value_name='Kc')\n",
    "display(df_to_plot)\n",
    "sns.violinplot(data=df_to_plot, x='Model', y='Kc_mlp')\n",
    "plt.title('Kc Error Distribution across models')"
   ],
   "metadata": {
    "collapsed": false
   },
   "id": "c9aec21f85c419e0"
  },
  {
   "cell_type": "code",
   "execution_count": null,
   "outputs": [],
   "source": [
    "import numpy as np\n",
    "df_to_plot['Kc_error'] = (df_to_plot['Kc'] - df_to_plot['Kc_mlp']).abs()\n",
    "df_to_plot['Kc_error_squared'] = np.sqrt(np.abs(df_to_plot['Kc']**2 - df_to_plot['Kc_mlp']**2))\n",
    "sns.violinplot(data=df_to_plot, x='Model', y='Kc_error')"
   ],
   "metadata": {
    "collapsed": false
   },
   "id": "a6296c0c7e014700"
  },
  {
   "cell_type": "code",
   "execution_count": null,
   "outputs": [],
   "source": [
    "df_to_plot['Errors Frequency'] = df_to_plot['Kc_error'] / df_to_plot['Kc_error'].sum()\n",
    "sns.displot(data=df_to_plot, x=\"Errors Frequency\", hue=\"Model\", \n",
    "            kind=\"hist\", stat='frequency', \n",
    "            bins=5, multiple=\"dodge\", shrink=.8)"
   ],
   "metadata": {
    "collapsed": false
   },
   "id": "59721b1131445e23"
  },
  {
   "cell_type": "code",
   "execution_count": null,
   "outputs": [],
   "source": [
    "df_to_plot"
   ],
   "metadata": {
    "collapsed": false
   },
   "id": "54e2bf2db77ea740"
  },
  {
   "cell_type": "code",
   "execution_count": null,
   "outputs": [],
   "source": [],
   "metadata": {
    "collapsed": false
   },
   "id": "b96aba0fdf9522"
  }
 ],
 "metadata": {
  "kernelspec": {
   "display_name": "Python 3 (ipykernel)",
   "language": "python",
   "name": "python3"
  },
  "language_info": {
   "codemirror_mode": {
    "name": "ipython",
    "version": 3
   },
   "file_extension": ".py",
   "mimetype": "text/x-python",
   "name": "python",
   "nbconvert_exporter": "python",
   "pygments_lexer": "ipython3",
   "version": "3.9.13"
  }
 },
 "nbformat": 4,
 "nbformat_minor": 5
}
